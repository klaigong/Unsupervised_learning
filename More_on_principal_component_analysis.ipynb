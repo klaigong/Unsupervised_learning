{
 "cells": [
  {
   "attachments": {},
   "cell_type": "markdown",
   "metadata": {
    "id": "ITqrvAqq8xSC"
   },
   "source": [
    "## More on Principal Component Analysis "
   ]
  },
  {
   "attachments": {},
   "cell_type": "markdown",
   "metadata": {},
   "source": [
    "## Overview\n",
    "\n",
    "The Digits dataset consists of 1,797 images of handwritten digits, each represented by a 64-dimensional feature vector. The dataset's high dimensionality can pose challenges when visualising and exploring it and could also lead to model complexity.\n",
    "\n",
    "This notebook applies PCA to the Digits dataset and evaluate its ability to reduce the dataset's dimensionality while retaining valuable information."
   ]
  },
  {
   "cell_type": "markdown",
   "metadata": {},
   "source": [
    "## Import libraries "
   ]
  },
  {
   "cell_type": "code",
   "execution_count": 1,
   "metadata": {},
   "outputs": [],
   "source": [
    "import numpy as np\n",
    "import pandas as pd\n",
    "import matplotlib.pyplot as plt\n",
    "from sklearn.datasets import load_digits\n",
    "from sklearn.decomposition import PCA\n",
    "from sklearn.preprocessing import StandardScaler"
   ]
  },
  {
   "cell_type": "markdown",
   "metadata": {},
   "source": [
    "## Load and prepare dataset"
   ]
  },
  {
   "cell_type": "code",
   "execution_count": 2,
   "metadata": {},
   "outputs": [],
   "source": [
    "# Load the dataset\n",
    "digits = load_digits()\n",
    "X = digits.data\n",
    "y = digits.target\n",
    "\n",
    "# Standardize the features\n",
    "scaler = StandardScaler()\n",
    "X_scaled = scaler.fit_transform(X)"
   ]
  },
  {
   "attachments": {},
   "cell_type": "markdown",
   "metadata": {},
   "source": [
    "### Step 1\n",
    "\n",
    "To reduce the dataset's dimensionality, let's transform the standardised dataset by applying PCA."
   ]
  },
  {
   "cell_type": "code",
   "execution_count": 3,
   "metadata": {},
   "outputs": [],
   "source": [
    "pca = PCA()\n",
    "X_pca = pca.fit_transform(X_scaled)"
   ]
  },
  {
   "cell_type": "markdown",
   "metadata": {},
   "source": [
    "### Step 2\n",
    "\n",
    "To understand which components carry the most information, we can assess how much of the dataset's variance is captured by each principal component.\n",
    "\n",
    "We compute and print the `Explained Variance Ratio` for each principal component formatted to four decimal places."
   ]
  },
  {
   "cell_type": "code",
   "execution_count": 4,
   "metadata": {},
   "outputs": [
    {
     "name": "stdout",
     "output_type": "stream",
     "text": [
      "PC1: Explained Variance = 0.1203\n",
      "PC2: Explained Variance = 0.0956\n",
      "PC3: Explained Variance = 0.0844\n",
      "PC4: Explained Variance = 0.0650\n",
      "PC5: Explained Variance = 0.0486\n",
      "PC6: Explained Variance = 0.0421\n",
      "PC7: Explained Variance = 0.0394\n",
      "PC8: Explained Variance = 0.0339\n",
      "PC9: Explained Variance = 0.0300\n",
      "PC10: Explained Variance = 0.0293\n",
      "PC11: Explained Variance = 0.0278\n",
      "PC12: Explained Variance = 0.0258\n",
      "PC13: Explained Variance = 0.0228\n",
      "PC14: Explained Variance = 0.0223\n",
      "PC15: Explained Variance = 0.0217\n",
      "PC16: Explained Variance = 0.0191\n",
      "PC17: Explained Variance = 0.0178\n",
      "PC18: Explained Variance = 0.0164\n",
      "PC19: Explained Variance = 0.0160\n",
      "PC20: Explained Variance = 0.0149\n",
      "PC21: Explained Variance = 0.0135\n",
      "PC22: Explained Variance = 0.0127\n",
      "PC23: Explained Variance = 0.0117\n",
      "PC24: Explained Variance = 0.0106\n",
      "PC25: Explained Variance = 0.0098\n",
      "PC26: Explained Variance = 0.0094\n",
      "PC27: Explained Variance = 0.0086\n",
      "PC28: Explained Variance = 0.0084\n",
      "PC29: Explained Variance = 0.0080\n",
      "PC30: Explained Variance = 0.0075\n",
      "PC31: Explained Variance = 0.0073\n",
      "PC32: Explained Variance = 0.0069\n",
      "PC33: Explained Variance = 0.0065\n",
      "PC34: Explained Variance = 0.0064\n",
      "PC35: Explained Variance = 0.0059\n",
      "PC36: Explained Variance = 0.0057\n",
      "PC37: Explained Variance = 0.0052\n",
      "PC38: Explained Variance = 0.0048\n",
      "PC39: Explained Variance = 0.0045\n",
      "PC40: Explained Variance = 0.0042\n",
      "PC41: Explained Variance = 0.0041\n",
      "PC42: Explained Variance = 0.0040\n",
      "PC43: Explained Variance = 0.0036\n",
      "PC44: Explained Variance = 0.0034\n",
      "PC45: Explained Variance = 0.0033\n",
      "PC46: Explained Variance = 0.0031\n",
      "PC47: Explained Variance = 0.0029\n",
      "PC48: Explained Variance = 0.0028\n",
      "PC49: Explained Variance = 0.0026\n",
      "PC50: Explained Variance = 0.0023\n",
      "PC51: Explained Variance = 0.0022\n",
      "PC52: Explained Variance = 0.0020\n",
      "PC53: Explained Variance = 0.0020\n",
      "PC54: Explained Variance = 0.0018\n",
      "PC55: Explained Variance = 0.0017\n",
      "PC56: Explained Variance = 0.0016\n",
      "PC57: Explained Variance = 0.0015\n",
      "PC58: Explained Variance = 0.0014\n",
      "PC59: Explained Variance = 0.0013\n",
      "PC60: Explained Variance = 0.0010\n",
      "PC61: Explained Variance = 0.0008\n",
      "PC62: Explained Variance = 0.0000\n",
      "PC63: Explained Variance = 0.0000\n",
      "PC64: Explained Variance = 0.0000\n"
     ]
    }
   ],
   "source": [
    "ev_ratio = pca.explained_variance_ratio_\n",
    "\n",
    "for i, ev in enumerate(ev_ratio):\n",
    "    print(f\"PC{i+1}: Explained Variance = {ev:.4f}\")"
   ]
  },
  {
   "cell_type": "markdown",
   "metadata": {},
   "source": [
    "### Step 3\n",
    "\n",
    "We can also evaluate how much total variance is captured as components are added incrementally. This can help us get a view of how many components are needed to capture a substantial proportion of the dataset's variance.\n",
    "\n",
    "We determine the cumulative variance ratio by summing the explained variance ratios of each principal component."
   ]
  },
  {
   "cell_type": "code",
   "execution_count": 5,
   "metadata": {},
   "outputs": [
    {
     "name": "stdout",
     "output_type": "stream",
     "text": [
      "PC1: Cumulative Variance = 0.1203\n",
      "PC2: Cumulative Variance = 0.2159\n",
      "PC3: Cumulative Variance = 0.3004\n",
      "PC4: Cumulative Variance = 0.3654\n",
      "PC5: Cumulative Variance = 0.4140\n",
      "PC6: Cumulative Variance = 0.4561\n",
      "PC7: Cumulative Variance = 0.4955\n",
      "PC8: Cumulative Variance = 0.5294\n",
      "PC9: Cumulative Variance = 0.5594\n",
      "PC10: Cumulative Variance = 0.5887\n",
      "PC11: Cumulative Variance = 0.6166\n",
      "PC12: Cumulative Variance = 0.6423\n",
      "PC13: Cumulative Variance = 0.6651\n",
      "PC14: Cumulative Variance = 0.6874\n",
      "PC15: Cumulative Variance = 0.7090\n",
      "PC16: Cumulative Variance = 0.7281\n",
      "PC17: Cumulative Variance = 0.7459\n",
      "PC18: Cumulative Variance = 0.7623\n",
      "PC19: Cumulative Variance = 0.7782\n",
      "PC20: Cumulative Variance = 0.7931\n",
      "PC21: Cumulative Variance = 0.8066\n",
      "PC22: Cumulative Variance = 0.8193\n",
      "PC23: Cumulative Variance = 0.8310\n",
      "PC24: Cumulative Variance = 0.8416\n",
      "PC25: Cumulative Variance = 0.8513\n",
      "PC26: Cumulative Variance = 0.8608\n",
      "PC27: Cumulative Variance = 0.8694\n",
      "PC28: Cumulative Variance = 0.8778\n",
      "PC29: Cumulative Variance = 0.8857\n",
      "PC30: Cumulative Variance = 0.8932\n",
      "PC31: Cumulative Variance = 0.9005\n",
      "PC32: Cumulative Variance = 0.9074\n",
      "PC33: Cumulative Variance = 0.9139\n",
      "PC34: Cumulative Variance = 0.9203\n",
      "PC35: Cumulative Variance = 0.9262\n",
      "PC36: Cumulative Variance = 0.9320\n",
      "PC37: Cumulative Variance = 0.9372\n",
      "PC38: Cumulative Variance = 0.9420\n",
      "PC39: Cumulative Variance = 0.9465\n",
      "PC40: Cumulative Variance = 0.9508\n",
      "PC41: Cumulative Variance = 0.9548\n",
      "PC42: Cumulative Variance = 0.9588\n",
      "PC43: Cumulative Variance = 0.9624\n",
      "PC44: Cumulative Variance = 0.9658\n",
      "PC45: Cumulative Variance = 0.9691\n",
      "PC46: Cumulative Variance = 0.9722\n",
      "PC47: Cumulative Variance = 0.9751\n",
      "PC48: Cumulative Variance = 0.9778\n",
      "PC49: Cumulative Variance = 0.9804\n",
      "PC50: Cumulative Variance = 0.9828\n",
      "PC51: Cumulative Variance = 0.9849\n",
      "PC52: Cumulative Variance = 0.9870\n",
      "PC53: Cumulative Variance = 0.9889\n",
      "PC54: Cumulative Variance = 0.9908\n",
      "PC55: Cumulative Variance = 0.9924\n",
      "PC56: Cumulative Variance = 0.9941\n",
      "PC57: Cumulative Variance = 0.9955\n",
      "PC58: Cumulative Variance = 0.9969\n",
      "PC59: Cumulative Variance = 0.9981\n",
      "PC60: Cumulative Variance = 0.9992\n",
      "PC61: Cumulative Variance = 1.0000\n",
      "PC62: Cumulative Variance = 1.0000\n",
      "PC63: Cumulative Variance = 1.0000\n",
      "PC64: Cumulative Variance = 1.0000\n"
     ]
    }
   ],
   "source": [
    "cv_ratio = np.cumsum(ev_ratio)\n",
    "\n",
    "for i, cv in enumerate(cv_ratio):\n",
    "    print(f\"PC{i+1}: Cumulative Variance = {cv:.4f}\")"
   ]
  },
  {
   "cell_type": "markdown",
   "metadata": {},
   "source": [
    "### Step 4\n",
    "\n",
    "Based on the results from **Exercise 3**, it is possible to determine how many components are needed to capture at least 85% of the total variance.\n"
   ]
  },
  {
   "cell_type": "code",
   "execution_count": 11,
   "metadata": {},
   "outputs": [
    {
     "name": "stdout",
     "output_type": "stream",
     "text": [
      "PC1: Cumulative Variance = 0.1203\n",
      "PC2: Cumulative Variance = 0.2159\n",
      "PC3: Cumulative Variance = 0.3004\n",
      "PC4: Cumulative Variance = 0.3654\n",
      "PC5: Cumulative Variance = 0.4140\n",
      "PC6: Cumulative Variance = 0.4561\n",
      "PC7: Cumulative Variance = 0.4955\n",
      "PC8: Cumulative Variance = 0.5294\n",
      "PC9: Cumulative Variance = 0.5594\n",
      "PC10: Cumulative Variance = 0.5887\n",
      "PC11: Cumulative Variance = 0.6166\n",
      "PC12: Cumulative Variance = 0.6423\n",
      "PC13: Cumulative Variance = 0.6651\n",
      "PC14: Cumulative Variance = 0.6874\n",
      "PC15: Cumulative Variance = 0.7090\n",
      "PC16: Cumulative Variance = 0.7281\n",
      "PC17: Cumulative Variance = 0.7459\n",
      "PC18: Cumulative Variance = 0.7623\n",
      "PC19: Cumulative Variance = 0.7782\n",
      "PC20: Cumulative Variance = 0.7931\n",
      "PC21: Cumulative Variance = 0.8066\n",
      "PC22: Cumulative Variance = 0.8193\n",
      "PC23: Cumulative Variance = 0.8310\n",
      "PC24: Cumulative Variance = 0.8416\n",
      "PC25: Cumulative Variance = 0.8513\n",
      "PC26: Cumulative Variance = 0.8608\n",
      "PC27: Cumulative Variance = 0.8694\n",
      "PC28: Cumulative Variance = 0.8778\n",
      "PC29: Cumulative Variance = 0.8857\n",
      "PC30: Cumulative Variance = 0.8932\n",
      "PC31: Cumulative Variance = 0.9005\n",
      "PC32: Cumulative Variance = 0.9074\n",
      "PC33: Cumulative Variance = 0.9139\n",
      "PC34: Cumulative Variance = 0.9203\n",
      "PC35: Cumulative Variance = 0.9262\n",
      "PC36: Cumulative Variance = 0.9320\n",
      "PC37: Cumulative Variance = 0.9372\n",
      "PC38: Cumulative Variance = 0.9420\n",
      "PC39: Cumulative Variance = 0.9465\n",
      "PC40: Cumulative Variance = 0.9508\n",
      "PC41: Cumulative Variance = 0.9548\n",
      "PC42: Cumulative Variance = 0.9588\n",
      "PC43: Cumulative Variance = 0.9624\n",
      "PC44: Cumulative Variance = 0.9658\n",
      "PC45: Cumulative Variance = 0.9691\n",
      "PC46: Cumulative Variance = 0.9722\n",
      "PC47: Cumulative Variance = 0.9751\n",
      "PC48: Cumulative Variance = 0.9778\n",
      "PC49: Cumulative Variance = 0.9804\n",
      "PC50: Cumulative Variance = 0.9828\n",
      "PC51: Cumulative Variance = 0.9849\n",
      "PC52: Cumulative Variance = 0.9870\n",
      "PC53: Cumulative Variance = 0.9889\n",
      "PC54: Cumulative Variance = 0.9908\n",
      "PC55: Cumulative Variance = 0.9924\n",
      "PC56: Cumulative Variance = 0.9941\n",
      "PC57: Cumulative Variance = 0.9955\n",
      "PC58: Cumulative Variance = 0.9969\n",
      "PC59: Cumulative Variance = 0.9981\n",
      "PC60: Cumulative Variance = 0.9992\n",
      "PC61: Cumulative Variance = 1.0000\n",
      "PC62: Cumulative Variance = 1.0000\n",
      "PC63: Cumulative Variance = 1.0000\n",
      "PC64: Cumulative Variance = 1.0000\n"
     ]
    }
   ],
   "source": [
    "# Calculate the cumulative variance ratio\n",
    "cumulative_variance_ratio = np.cumsum(explained_variance_ratio)\n",
    "\n",
    "# Print the cumulative variance ratio\n",
    "for i, cv in enumerate(cumulative_variance_ratio):\n",
    "    print(f\"PC{i+1}: Cumulative Variance = {cv:.4f}\")"
   ]
  },
  {
   "cell_type": "markdown",
   "metadata": {},
   "source": [
    "The results show that each additional principal component captures more variance. For example, PC1 captures 12.03%, and by PC10, 58.87% is captured. All 64 components capture 100% variance. This helps identify how many components are needed to capture a significant portion of the dataset's variance."
   ]
  },
  {
   "cell_type": "markdown",
   "metadata": {},
   "source": [
    "The cumulative variance ratio shows that to reach at least 85% cumulative variance, 25 components are needed.\n",
    "\n",
    "We observe that by retaining the first 25 components, we can capture 85.13% of the total variance in the dataset, which significantly reduces the dataset's dimensionality while retaining most of its information.\n",
    "\n",
    "Using 25 components instead of the original 64 simplifies any downstream models by reducing their feature space, potentially improving model performance and interpretability.\n",
    "\n",
    "The reduced number of components also makes visualising the data easier, which can provide meaningful insights into class separations or clustering.\n",
    "\n",
    "Therefore, the ability to capture over 85% of the variance with 25 components makes PCA a viable dimensionality reduction technique for this dataset, preserving most information while simplifying further analyses."
   ]
  }
 ],
 "metadata": {
  "colab": {
   "authorship_tag": "ABX9TyPZFCZhaikX+N2/Bg7W6SY+",
   "collapsed_sections": [],
   "name": "Search_algorithms.ipynb",
   "provenance": [],
   "toc_visible": true
  },
  "interpreter": {
   "hash": "6b5ebbc2c6bde2831bc6c0426f75aca8137ccfc69d329557556ed73faee126ae"
  },
  "kernelspec": {
   "display_name": "Python 3 (ipykernel)",
   "language": "python",
   "name": "python3"
  },
  "language_info": {
   "codemirror_mode": {
    "name": "ipython",
    "version": 3
   },
   "file_extension": ".py",
   "mimetype": "text/x-python",
   "name": "python",
   "nbconvert_exporter": "python",
   "pygments_lexer": "ipython3",
   "version": "3.11.9"
  }
 },
 "nbformat": 4,
 "nbformat_minor": 2
}
